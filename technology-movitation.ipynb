{
 "cells": [
  {
   "cell_type": "code",
   "execution_count": 24,
   "metadata": {},
   "outputs": [],
   "source": [
    "import pandas as pd\n",
    "import requests\n",
    "import config"
   ]
  },
  {
   "cell_type": "code",
   "execution_count": 25,
   "metadata": {},
   "outputs": [
    {
     "name": "stdout",
     "output_type": "stream",
     "text": [
      "YOUR_KEY\n",
      "\n",
      "<html>\n",
      "    <head>\n",
      "        <title>Invalid Key</title>\n",
      "    </head>\n",
      "    <body>\n",
      "        <p>\n",
      "            A valid <em>key</em> must be included with each data API request.\n",
      "            You included a key with this request, however, it is not valid.\n",
      "            Please check your key and try again.\n",
      "        </p>\n",
      "        <p>\n",
      "            If you do not have a key you my sign up for one <a href=\"key_signup.html\">here</a>.\n",
      "        </p>\n",
      "    </body>\n",
      "</html>\n",
      "\n"
     ]
    }
   ],
   "source": [
    "base_url = 'http://api.census.gov/data/2018/abstcb'\n",
    "variables = 'NAME,TECHUSE,TECHUSE_LABEL,MOTUSETECH,MOTUSETECH_LABEL,FIRMPDEMP'\n",
    "# MOTUSETECH, NSFSZFI_LABEL, NAICS2017_LABEL\n",
    "location = 'state:*'\n",
    "print(config.personalKey)\n",
    "url = base_url + '?get=' + variables + '&for=' + location + '&key=' + config.personalKey\n",
    "response = requests.get(url)\n",
    "data = response.text\n",
    "print(data)\n",
    "#motivation_by_state = pd.read_json(data)\n",
    "\n",
    "\n",
    "#motivation_by_state.columns = motivation_by_state.iloc[0]\n",
    "#motivation_by_state.drop(index=0, inplace=True)\n",
    "\n",
    "# print(motivation_by_state.MOTUSETECH_LABEL.unique())\n",
    "# print(motivation_by_state)"
   ]
  },
  {
   "cell_type": "code",
   "execution_count": 15,
   "metadata": {},
   "outputs": [],
   "source": [
    "variables = 'NAME,TECHUSE,TECHUSE_LABEL,MOTUSETECH,MOTUSETECH_LABEL,NSFSZFI,NSFSZFI_LABEL,FIRMPDEMP'\n",
    "# MOTUSETECH, NSFSZFI_LABEL, NAICS2017_LABEL\n",
    "location = 'us:*'\n",
    "key = 'f070892809ca1721734a73915b989bf6598f81b0'\n",
    "url = base_url + '?get=' + variables + '&for=' + location + '&key=' + key\n",
    "response = requests.get(url)\n",
    "data = response.text\n",
    "motivation_by_size = pd.read_json(data)\n",
    "\n",
    "\n",
    "motivation_by_size.columns = motivation_by_size.iloc[0]\n",
    "motivation_by_size.drop(index=0, inplace=True)\n",
    "\n",
    "# print(motivation_by_size.NSFSZFI_LABEL.unique())\n",
    "# print(motivation_by_size)"
   ]
  },
  {
   "cell_type": "code",
   "execution_count": 16,
   "metadata": {},
   "outputs": [],
   "source": [
    "variables = 'NAME,TECHUSE,TECHUSE_LABEL,MOTUSETECH,MOTUSETECH_LABEL,NAICS2017,NAICS2017_LABEL,FIRMPDEMP'\n",
    "# MOTUSETECH, NSFSZFI_LABEL, NAICS2017_LABEL\n",
    "location = 'us:*'\n",
    "key = 'f070892809ca1721734a73915b989bf6598f81b0'\n",
    "url = base_url + '?get=' + variables + '&for=' + location + '&key=' + key\n",
    "response = requests.get(url)\n",
    "data = response.text\n",
    "motivation_by_industry = pd.read_json(data)\n",
    "\n",
    "\n",
    "motivation_by_industry.columns = motivation_by_industry.iloc[0]\n",
    "motivation_by_industry.drop(index=0, inplace=True)\n",
    "\n",
    "# print(motivation_by_industry.NAICS2017.unique())\n",
    "# print(motivation_by_industry)"
   ]
  }
 ],
 "metadata": {
  "interpreter": {
   "hash": "4dffced3618d713eb35573249f37da055ccb4ce8327966404b9b643de5d1677c"
  },
  "kernelspec": {
   "display_name": "Python 3.9.7 64-bit ('base': conda)",
   "language": "python",
   "name": "python3"
  },
  "language_info": {
   "codemirror_mode": {
    "name": "ipython",
    "version": 3
   },
   "file_extension": ".py",
   "mimetype": "text/x-python",
   "name": "python",
   "nbconvert_exporter": "python",
   "pygments_lexer": "ipython3",
   "version": "3.9.7"
  },
  "orig_nbformat": 4
 },
 "nbformat": 4,
 "nbformat_minor": 2
}
