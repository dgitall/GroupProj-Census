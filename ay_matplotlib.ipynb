{
 "cells": [
  {
   "cell_type": "code",
   "execution_count": 2,
   "id": "2b0de35e-b7f5-4545-a0b4-cbfa69c33f38",
   "metadata": {},
   "outputs": [],
   "source": [
    "import pandas as pd\n",
    "import requests\n",
    "import matplotlib.pyplot as plt\n",
    "%matplotlib inline\n",
    "\n",
    "import config"
   ]
  },
  {
   "cell_type": "code",
   "execution_count": 3,
   "id": "22cd988a-08cf-497f-b83e-af5d19e1f150",
   "metadata": {},
   "outputs": [],
   "source": [
    "url_main = 'http://api.census.gov/data/2018/abscs'\n",
    "url_columns = '?get=NAME,EMP,PAYANN'\n",
    "url_focus = '&for=state:*'\n",
    "url_key = config.key\n",
    "full_url = f'{url_main}{url_columns}{url_focus}{url_key}'\n",
    "response = requests.get(full_url)"
   ]
  },
  {
   "cell_type": "code",
   "execution_count": 4,
   "id": "a871ff1e-87d7-4aa0-8bc7-8a7488a1cfc1",
   "metadata": {},
   "outputs": [
    {
     "data": {
      "text/html": [
       "<div>\n",
       "<style scoped>\n",
       "    .dataframe tbody tr th:only-of-type {\n",
       "        vertical-align: middle;\n",
       "    }\n",
       "\n",
       "    .dataframe tbody tr th {\n",
       "        vertical-align: top;\n",
       "    }\n",
       "\n",
       "    .dataframe thead th {\n",
       "        text-align: right;\n",
       "    }\n",
       "</style>\n",
       "<table border=\"1\" class=\"dataframe\">\n",
       "  <thead>\n",
       "    <tr style=\"text-align: right;\">\n",
       "      <th></th>\n",
       "      <th>NAME</th>\n",
       "      <th>EMP</th>\n",
       "      <th>PAYANN</th>\n",
       "      <th>state</th>\n",
       "    </tr>\n",
       "  </thead>\n",
       "  <tbody>\n",
       "    <tr>\n",
       "      <th>1</th>\n",
       "      <td>Mississippi</td>\n",
       "      <td>920447</td>\n",
       "      <td>34137231</td>\n",
       "      <td>28</td>\n",
       "    </tr>\n",
       "    <tr>\n",
       "      <th>2</th>\n",
       "      <td>Missouri</td>\n",
       "      <td>2464500</td>\n",
       "      <td>116172182</td>\n",
       "      <td>29</td>\n",
       "    </tr>\n",
       "    <tr>\n",
       "      <th>3</th>\n",
       "      <td>Montana</td>\n",
       "      <td>361600</td>\n",
       "      <td>14060286</td>\n",
       "      <td>30</td>\n",
       "    </tr>\n",
       "    <tr>\n",
       "      <th>4</th>\n",
       "      <td>Nebraska</td>\n",
       "      <td>855009</td>\n",
       "      <td>38441262</td>\n",
       "      <td>31</td>\n",
       "    </tr>\n",
       "    <tr>\n",
       "      <th>5</th>\n",
       "      <td>Nevada</td>\n",
       "      <td>1240230</td>\n",
       "      <td>55634075</td>\n",
       "      <td>32</td>\n",
       "    </tr>\n",
       "  </tbody>\n",
       "</table>\n",
       "</div>"
      ],
      "text/plain": [
       "0         NAME      EMP     PAYANN state\n",
       "1  Mississippi   920447   34137231    28\n",
       "2     Missouri  2464500  116172182    29\n",
       "3      Montana   361600   14060286    30\n",
       "4     Nebraska   855009   38441262    31\n",
       "5       Nevada  1240230   55634075    32"
      ]
     },
     "execution_count": 4,
     "metadata": {},
     "output_type": "execute_result"
    }
   ],
   "source": [
    "annual_pay = pd.read_json(response.text)\n",
    "annual_pay.columns = annual_pay.iloc[0]\n",
    "annual_pay.drop(index=0, inplace=True)\n",
    "annual_pay.head()"
   ]
  },
  {
   "cell_type": "code",
   "execution_count": 5,
   "id": "c326795d-04ac-4e91-9cab-d87f5c5aafdc",
   "metadata": {},
   "outputs": [],
   "source": [
    "annual_pay.astype({'EMP':'int64'})\n",
    "annual_pay['EMP'] = annual_pay['EMP'].astype(int)/100000\n",
    "annual_pay['PAYANN'] = annual_pay['PAYANN'].astype(int)/100000"
   ]
  },
  {
   "cell_type": "code",
   "execution_count": 6,
   "id": "a2864564-1992-4f82-a9d2-7809156ca721",
   "metadata": {},
   "outputs": [],
   "source": [
    "annual_pay.rename(columns={\"NAME\":\"state_name\",\"EMP\":\"employees\",\"PAYANN\":\"annual_pay\",\"state\":\"state_number\"},inplace=True)\n",
    "two_states = annual_pay[(annual_pay['state_name']=='Wisconsin')|(annual_pay['state_name']== 'Minnesota')]"
   ]
  },
  {
   "cell_type": "code",
   "execution_count": 7,
   "id": "13a91439-4f02-4c97-823c-12e4c509e6c9",
   "metadata": {},
   "outputs": [
    {
     "data": {
      "text/plain": [
       "Text(0, 0.5, 'State')"
      ]
     },
     "execution_count": 7,
     "metadata": {},
     "output_type": "execute_result"
    },
    {
     "data": {
      "image/png": "[encoded data removed]",
      "text/plain": [
       "<Figure size 432x288 with 1 Axes>"
      ]
     },
     "metadata": {
      "needs_background": "light"
     },
     "output_type": "display_data"
    }
   ],
   "source": [
    "vis1 = two_states[['state_name','annual_pay']]\n",
    "ax = vis1.plot(title='Annual Pay by State',kind='barh',x='state_name')\n",
    "ax.set_xlabel('Annual Pay (100,000s)')\n",
    "ax.set_ylabel('State')"
   ]
  },
  {
   "cell_type": "code",
   "execution_count": 8,
   "id": "557750ee-7161-4740-beb4-dda0bccfe327",
   "metadata": {},
   "outputs": [
    {
     "data": {
      "text/plain": [
       "Text(0, 0.5, 'Annual Pay (100,000s)')"
      ]
     },
     "execution_count": 8,
     "metadata": {},
     "output_type": "execute_result"
    },
    {
     "data": {
      "image/png": "[encoded data removed]",
      "text/plain": [
       "<Figure size 432x288 with 1 Axes>"
      ]
     },
     "metadata": {
      "needs_background": "light"
     },
     "output_type": "display_data"
    }
   ],
   "source": [
    "vis2 = annual_pay[['employees','annual_pay']]\n",
    "ax = vis2.plot(title='Annual Pay by Number of Employees',kind='scatter',x='employees',y='annual_pay')\n",
    "ax.set_xlabel('Number of Employees (100,000s)')\n",
    "ax.set_ylabel('Annual Pay (100,000s)')"
   ]
  }
 ],
 "metadata": {
  "kernelspec": {
   "display_name": "Python 3 (ipykernel)",
   "language": "python",
   "name": "python3"
  },
  "language_info": {
   "codemirror_mode": {
    "name": "ipython",
    "version": 3
   },
   "file_extension": ".py",
   "mimetype": "text/x-python",
   "name": "python",
   "nbconvert_exporter": "python",
   "pygments_lexer": "ipython3",
   "version": "3.9.7"
  }
 },
 "nbformat": 4,
 "nbformat_minor": 5
}
