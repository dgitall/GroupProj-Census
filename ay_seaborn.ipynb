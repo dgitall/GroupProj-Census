{
 "cells": [
  {
   "cell_type": "code",
   "execution_count": 55,
   "id": "8159211a-5cfe-4c9a-89a7-20d0503ab9db",
   "metadata": {},
   "outputs": [],
   "source": [
    "import pandas as pd\n",
    "import requests\n",
    "import matplotlib.pyplot as plt\n",
    "%matplotlib inline\n",
    "import seaborn as sns\n",
    "import numpy as np\n",
    "\n",
    "import config"
   ]
  },
  {
   "cell_type": "code",
   "execution_count": 56,
   "id": "729b1e91-fbc3-430e-a33e-30b89d94d177",
   "metadata": {},
   "outputs": [],
   "source": [
    "url_main = 'http://api.census.gov/data/2018/abscs'\n",
    "url_columns = '?get=NAME,EMP,EMPSZFI,EMPSZFI_LABEL,FIRMPDEMP'\n",
    "url_focus = '&for=state:*'\n",
    "url_key = config.key\n",
    "full_url = f'{url_main}{url_columns}{url_focus}{url_key}'\n",
    "response = requests.get(full_url)"
   ]
  },
  {
   "cell_type": "code",
   "execution_count": 57,
   "id": "0238a2d9-bbbf-4d41-97e9-b751d245da4b",
   "metadata": {},
   "outputs": [
    {
     "data": {
      "text/html": [
       "<div>\n",
       "<style scoped>\n",
       "    .dataframe tbody tr th:only-of-type {\n",
       "        vertical-align: middle;\n",
       "    }\n",
       "\n",
       "    .dataframe tbody tr th {\n",
       "        vertical-align: top;\n",
       "    }\n",
       "\n",
       "    .dataframe thead th {\n",
       "        text-align: right;\n",
       "    }\n",
       "</style>\n",
       "<table border=\"1\" class=\"dataframe\">\n",
       "  <thead>\n",
       "    <tr style=\"text-align: right;\">\n",
       "      <th></th>\n",
       "      <th>state_name</th>\n",
       "      <th>employees</th>\n",
       "      <th>EMPSZFI</th>\n",
       "      <th>size_label</th>\n",
       "      <th>firms</th>\n",
       "      <th>state_number</th>\n",
       "    </tr>\n",
       "  </thead>\n",
       "  <tbody>\n",
       "    <tr>\n",
       "      <th>251</th>\n",
       "      <td>Wisconsin</td>\n",
       "      <td>2595886</td>\n",
       "      <td>001</td>\n",
       "      <td>All firms</td>\n",
       "      <td>103744</td>\n",
       "      <td>55</td>\n",
       "    </tr>\n",
       "    <tr>\n",
       "      <th>252</th>\n",
       "      <td>Wisconsin</td>\n",
       "      <td>0</td>\n",
       "      <td>611</td>\n",
       "      <td>Firms with no employees</td>\n",
       "      <td>11104</td>\n",
       "      <td>55</td>\n",
       "    </tr>\n",
       "    <tr>\n",
       "      <th>253</th>\n",
       "      <td>Wisconsin</td>\n",
       "      <td>93183</td>\n",
       "      <td>612</td>\n",
       "      <td>Firms with 1 to 4 employees</td>\n",
       "      <td>45587</td>\n",
       "      <td>55</td>\n",
       "    </tr>\n",
       "    <tr>\n",
       "      <th>254</th>\n",
       "      <td>Wisconsin</td>\n",
       "      <td>108911</td>\n",
       "      <td>620</td>\n",
       "      <td>Firms with 5 to 9 employees</td>\n",
       "      <td>16379</td>\n",
       "      <td>55</td>\n",
       "    </tr>\n",
       "    <tr>\n",
       "      <th>255</th>\n",
       "      <td>Wisconsin</td>\n",
       "      <td>164497</td>\n",
       "      <td>630</td>\n",
       "      <td>Firms with 10 to 19 employees</td>\n",
       "      <td>12332</td>\n",
       "      <td>55</td>\n",
       "    </tr>\n",
       "  </tbody>\n",
       "</table>\n",
       "</div>"
      ],
      "text/plain": [
       "0   state_name employees EMPSZFI                     size_label   firms  \\\n",
       "251  Wisconsin   2595886     001                      All firms  103744   \n",
       "252  Wisconsin         0     611        Firms with no employees   11104   \n",
       "253  Wisconsin     93183     612    Firms with 1 to 4 employees   45587   \n",
       "254  Wisconsin    108911     620    Firms with 5 to 9 employees   16379   \n",
       "255  Wisconsin    164497     630  Firms with 10 to 19 employees   12332   \n",
       "\n",
       "0   state_number  \n",
       "251           55  \n",
       "252           55  \n",
       "253           55  \n",
       "254           55  \n",
       "255           55  "
      ]
     },
     "execution_count": 57,
     "metadata": {},
     "output_type": "execute_result"
    }
   ],
   "source": [
    "full_data = pd.read_json(response.text)\n",
    "full_data.columns = full_data.iloc[0]\n",
    "full_data.drop(index=0,inplace=True)\n",
    "full_data.rename(columns={\"NAME\":\"state_name\",\"EMP\":\"employees\",\"EMPSZFI_LABEL\":\"size_label\",\"FIRMPDEMP\":\"firms\",\"state\":\"state_number\"},inplace=True)\n",
    "wisconsin = full_data[full_data['state_name']=='Wisconsin']\n",
    "wisconsin.head()"
   ]
  },
  {
   "cell_type": "code",
   "execution_count": 64,
   "id": "9242206b-00d7-400f-8dcf-dfbe3a4a58e8",
   "metadata": {},
   "outputs": [
    {
     "name": "stderr",
     "output_type": "stream",
     "text": [
      "C:\\Users\\amyyu\\AppData\\Local\\Temp/ipykernel_136644/2468936682.py:1: SettingWithCopyWarning: \n",
      "A value is trying to be set on a copy of a slice from a DataFrame.\n",
      "Try using .loc[row_indexer,col_indexer] = value instead\n",
      "\n",
      "See the caveats in the documentation: https://pandas.pydata.org/pandas-docs/stable/user_guide/indexing.html#returning-a-view-versus-a-copy\n",
      "  wisconsin['firms'] = wisconsin['firms'].astype(int)\n"
     ]
    },
    {
     "data": {
      "text/html": [
       "<div>\n",
       "<style scoped>\n",
       "    .dataframe tbody tr th:only-of-type {\n",
       "        vertical-align: middle;\n",
       "    }\n",
       "\n",
       "    .dataframe tbody tr th {\n",
       "        vertical-align: top;\n",
       "    }\n",
       "\n",
       "    .dataframe thead th {\n",
       "        text-align: right;\n",
       "    }\n",
       "</style>\n",
       "<table border=\"1\" class=\"dataframe\">\n",
       "  <thead>\n",
       "    <tr style=\"text-align: right;\">\n",
       "      <th></th>\n",
       "      <th>state_name</th>\n",
       "      <th>employees</th>\n",
       "      <th>EMPSZFI</th>\n",
       "      <th>size_label</th>\n",
       "      <th>firms</th>\n",
       "      <th>state_number</th>\n",
       "    </tr>\n",
       "  </thead>\n",
       "  <tbody>\n",
       "    <tr>\n",
       "      <th>252</th>\n",
       "      <td>Wisconsin</td>\n",
       "      <td>0</td>\n",
       "      <td>611</td>\n",
       "      <td>Firms with no employees</td>\n",
       "      <td>11104</td>\n",
       "      <td>55</td>\n",
       "    </tr>\n",
       "    <tr>\n",
       "      <th>253</th>\n",
       "      <td>Wisconsin</td>\n",
       "      <td>93183</td>\n",
       "      <td>612</td>\n",
       "      <td>Firms with 1 to 4 employees</td>\n",
       "      <td>45587</td>\n",
       "      <td>55</td>\n",
       "    </tr>\n",
       "    <tr>\n",
       "      <th>254</th>\n",
       "      <td>Wisconsin</td>\n",
       "      <td>108911</td>\n",
       "      <td>620</td>\n",
       "      <td>Firms with 5 to 9 employees</td>\n",
       "      <td>16379</td>\n",
       "      <td>55</td>\n",
       "    </tr>\n",
       "    <tr>\n",
       "      <th>255</th>\n",
       "      <td>Wisconsin</td>\n",
       "      <td>164497</td>\n",
       "      <td>630</td>\n",
       "      <td>Firms with 10 to 19 employees</td>\n",
       "      <td>12332</td>\n",
       "      <td>55</td>\n",
       "    </tr>\n",
       "    <tr>\n",
       "      <th>256</th>\n",
       "      <td>Wisconsin</td>\n",
       "      <td>282941</td>\n",
       "      <td>641</td>\n",
       "      <td>Firms with 20 to 49 employees</td>\n",
       "      <td>9219</td>\n",
       "      <td>55</td>\n",
       "    </tr>\n",
       "  </tbody>\n",
       "</table>\n",
       "</div>"
      ],
      "text/plain": [
       "0   state_name employees EMPSZFI                     size_label  firms  \\\n",
       "252  Wisconsin         0     611        Firms with no employees  11104   \n",
       "253  Wisconsin     93183     612    Firms with 1 to 4 employees  45587   \n",
       "254  Wisconsin    108911     620    Firms with 5 to 9 employees  16379   \n",
       "255  Wisconsin    164497     630  Firms with 10 to 19 employees  12332   \n",
       "256  Wisconsin    282941     641  Firms with 20 to 49 employees   9219   \n",
       "\n",
       "0   state_number  \n",
       "252           55  \n",
       "253           55  \n",
       "254           55  \n",
       "255           55  \n",
       "256           55  "
      ]
     },
     "execution_count": 64,
     "metadata": {},
     "output_type": "execute_result"
    }
   ],
   "source": [
    "wisconsin['firms'] = wisconsin['firms'].astype(int)\n",
    "wisconsin = wisconsin[wisconsin['size_label'] != 'All firms']\n",
    "wisconsin.head()"
   ]
  },
  {
   "cell_type": "code",
   "execution_count": 65,
   "id": "7e2fecc3-78b7-484d-b8c3-9fc27b2b1b5c",
   "metadata": {},
   "outputs": [],
   "source": [
    "sns.set_style('darkgrid')"
   ]
  },
  {
   "cell_type": "code",
   "execution_count": 66,
   "id": "767d2573-f75b-4a25-ad49-f3c173db5bea",
   "metadata": {},
   "outputs": [
    {
     "data": {
      "image/png": "[encoded data removed]",
      "text/plain": [
       "<Figure size 432x288 with 1 Axes>"
      ]
     },
     "metadata": {},
     "output_type": "display_data"
    }
   ],
   "source": [
    "sns.barplot(x='firms',y='size_label',data=wisconsin);"
   ]
  }
 ],
 "metadata": {
  "kernelspec": {
   "display_name": "Python 3 (ipykernel)",
   "language": "python",
   "name": "python3"
  },
  "language_info": {
   "codemirror_mode": {
    "name": "ipython",
    "version": 3
   },
   "file_extension": ".py",
   "mimetype": "text/x-python",
   "name": "python",
   "nbconvert_exporter": "python",
   "pygments_lexer": "ipython3",
   "version": "3.9.7"
  }
 },
 "nbformat": 4,
 "nbformat_minor": 5
}
