{
 "cells": [
  {
   "cell_type": "markdown",
   "metadata": {},
   "source": [
    "# 1. Extraction "
   ]
  },
  {
   "cell_type": "code",
   "execution_count": null,
   "metadata": {},
   "outputs": [],
   "source": [
    "import requests\n",
    "import pandas as pd\n",
    "import config\n"
   ]
  },
  {
   "cell_type": "markdown",
   "metadata": {},
   "source": [
    "## a. Retrieve the data comparing the level of technology use by sector in US\n",
    "1. Query the US Census API with the call:\n",
    "   https://api.census.gov/data/2018/abstcb?get=NAME,TECHUSE,TECHUSE_LABEL,NAICS2017,NAICS2017_LABEL,FIRMPDEMP&for=us&key=YOUR_KEY\n",
    "2. Load the JSON response into a pandas dataframe TechUse_Sector_us"
   ]
  },
  {
   "cell_type": "code",
   "execution_count": null,
   "metadata": {},
   "outputs": [],
   "source": [
    "baseURL = 'https://api.census.gov/data/2018/abstcb'\n",
    "dataToGet = '?get=NAME,TECHUSE,TECHUSE_LABEL,NAICS2017,NAICS2017_LABEL,FIRMPDEMP'\n",
    "regionToGet = '&for=us'\n",
    "surveyToGet = ''\n",
    "queryURL = baseURL+dataToGet+regionToGet+surveyToGet+'&key='+config.personalKey \n",
    "response = requests.get(queryURL)\n",
    "print(queryURL)\n",
    "print(response.text)"
   ]
  },
  {
   "cell_type": "code",
   "execution_count": null,
   "metadata": {},
   "outputs": [],
   "source": [
    "TechUseHigh_Sector_us = pd.read_json(response.text)\n",
    "TechUseHigh_Sector_us.columns = TechUseHigh_Sector_us.iloc[0]\n",
    "TechUseHigh_Sector_us.drop(index=0, inplace=True)\n",
    "print(TechUseHigh_Sector_us.shape)\n",
    "print(TechUseHigh_Sector_us.head(10))\n",
    "print(TechUseHigh_Sector_us.columns)\n",
    "print(TechUseHigh_Sector_us.NAICS2017_LABEL.unique())"
   ]
  },
  {
   "cell_type": "markdown",
   "metadata": {},
   "source": [
    "## b. Retrieve the data comparing the level of technology use by business size in US\n",
    "1. Query the US Census API with the call:\n",
    "   https://api.census.gov/data/2018/abstcb?get=NAME,TECHUSE,TECHUSE_LABEL,NSFSZFI,NSFSZFI_LABEL,FIRMPDEMP&for=us&key=YOUR_KEY\n",
    "2. Load the JSON response into a pandas dataframe TechUse_Size_us"
   ]
  },
  {
   "cell_type": "code",
   "execution_count": null,
   "metadata": {},
   "outputs": [],
   "source": [
    "dataToGet = '?get=NAME,TECHUSE,TECHUSE_LABEL,NSFSZFI,NSFSZFI_LABEL,FIRMPDEMP'\n",
    "queryURL = baseURL+dataToGet+regionToGet+surveyToGet+'&key='+config.personalKey\n",
    "response = requests.get(queryURL)\n",
    "print(queryURL)\n",
    "print(response.text)"
   ]
  },
  {
   "cell_type": "code",
   "execution_count": null,
   "metadata": {},
   "outputs": [],
   "source": [
    "TechUseHigh_Size_us = pd.read_json(response.text)\n",
    "TechUseHigh_Size_us.columns = TechUseHigh_Size_us.iloc[0]\n",
    "TechUseHigh_Size_us.drop(index=0, inplace=True)\n",
    "print(TechUseHigh_Size_us.shape)\n",
    "print(TechUseHigh_Size_us.head(10))\n",
    "print(TechUseHigh_Size_us.columns)\n",
    "print(TechUseHigh_Size_us.NSFSZFI_LABEL.unique())"
   ]
  },
  {
   "cell_type": "markdown",
   "metadata": {},
   "source": [
    "## c. Retrieve the data comparing the level of technology use by state\n",
    "1. Query the US Census API with the call:\n",
    "   https://api.census.gov/data/2018/abstcb?get=NAME,TECHUSE,TECHUSE_LABEL,FIRMPDEMP&for=state&key=YOUR_KEY\n",
    "2. Load the JSON response into a pandas dataframe TechUse_state"
   ]
  },
  {
   "cell_type": "code",
   "execution_count": null,
   "metadata": {},
   "outputs": [],
   "source": [
    "dataToGet = '?get=NAME,TECHUSE,TECHUSE_LABEL,FIRMPDEMP'\n",
    "regionToGet = '&for=state'\n",
    "queryURL = baseURL+dataToGet+regionToGet+surveyToGet+'&key='+config.personalKey\n",
    "response = requests.get(queryURL)\n",
    "print(queryURL)\n",
    "print(response.text)"
   ]
  },
  {
   "cell_type": "code",
   "execution_count": null,
   "metadata": {},
   "outputs": [],
   "source": [
    "TechUseHigh_state = pd.read_json(response.text)\n",
    "TechUseHigh_state.columns = TechUseHigh_state.iloc[0]\n",
    "TechUseHigh_state.drop(index=0, inplace=True)\n",
    "print(TechUseHigh_state.shape)\n",
    "print(TechUseHigh_state.head(10))\n",
    "print(TechUseHigh_state.columns)\n",
    "print(TechUseHigh_state.NAME.unique())"
   ]
  },
  {
   "cell_type": "markdown",
   "metadata": {},
   "source": [
    "## d. Retrieve the dataset with the US Census regions and divisions for the states\n",
    "1. Read the raw csv file from the Github repository at https://github.com/cphalpert/census-regions/blob/master/us%20census%20bureau%20regions%20and%20divisions.csv"
   ]
  },
  {
   "cell_type": "code",
   "execution_count": null,
   "metadata": {},
   "outputs": [],
   "source": [
    "file_path = 'https://raw.githubusercontent.com/cphalpert/census-regions/master/us%20census%20bureau%20regions%20and%20divisions.csv'\n",
    "Census_regions = pd.read_csv(file_path)\n",
    "print(Census_regions)"
   ]
  },
  {
   "cell_type": "markdown",
   "metadata": {},
   "source": [
    "# 2. Transformation"
   ]
  },
  {
   "cell_type": "markdown",
   "metadata": {},
   "source": [
    "# a. Remove the unneeded rows from the dataframes\n",
    "1. Remove all rows except TECHUSE==T3E03B05, TECHUSE==T3E03B06, and TECHUSE==T3E03BA9. These are the high use, Don't know, total responses for Artificial Information technology use.\n",
    "2. Reset indices to sequential"
   ]
  },
  {
   "cell_type": "code",
   "execution_count": null,
   "metadata": {},
   "outputs": [],
   "source": [
    "remainingTECHUSE = ['T1E03B05', 'T1E03B06', 'T1E03BA9']\n",
    "TechUseHigh_Sector_us = TechUseHigh_Sector_us[TechUseHigh_Sector_us['TECHUSE'].isin(remainingTECHUSE) == True]\n",
    "print(TechUseHigh_Sector_us)\n",
    "TechUseHigh_Size_us = TechUseHigh_Size_us[TechUseHigh_Size_us['TECHUSE'].isin(remainingTECHUSE) == True]\n",
    "print(TechUseHigh_Size_us)\n",
    "TechUseHigh_state = TechUseHigh_state[TechUseHigh_state['TECHUSE'].isin(remainingTECHUSE) == True]\n",
    "print(TechUseHigh_state)"
   ]
  },
  {
   "cell_type": "code",
   "execution_count": null,
   "metadata": {},
   "outputs": [],
   "source": [
    "TechUseHigh_Sector_us.reset_index(drop=True, inplace=True)\n",
    "TechUseHigh_Size_us.reset_index(drop=True, inplace=True)\n",
    "TechUseHigh_state.reset_index(drop=True, inplace=True)\n",
    "print(TechUseHigh_Sector_us)\n",
    "print(TechUseHigh_Size_us)\n",
    "print(TechUseHigh_state)"
   ]
  },
  {
   "cell_type": "markdown",
   "metadata": {},
   "source": [
    "# b. Remove the unneeded columns from the dataframes\n",
    "1. Remove the NAME and 'us' column from the us-based dataframes.\n",
    "2. Remove the 'state' column from the state-based dataframe."
   ]
  },
  {
   "cell_type": "code",
   "execution_count": null,
   "metadata": {},
   "outputs": [],
   "source": [
    "TechUseHigh_Sector_us.drop(axis=1, columns=['NAME','us'], inplace=True)\n",
    "TechUseHigh_Size_us.drop(axis=1, columns=['NAME', 'us'], inplace=True)\n",
    "TechUseHigh_state.drop(axis=1, columns=['state'], inplace=True)\n",
    "print(TechUseHigh_Sector_us)\n",
    "print(TechUseHigh_Size_us)\n",
    "print(TechUseHigh_state)"
   ]
  },
  {
   "cell_type": "markdown",
   "metadata": {},
   "source": [
    "## c. Merge state regions with the state-based dataset\n",
    "1. Change column names in the datasets for the state abbreviations to match. \n",
    "2. Do an inner join to add the region and division labels to the state-based dataframe."
   ]
  },
  {
   "cell_type": "code",
   "execution_count": null,
   "metadata": {},
   "outputs": [],
   "source": [
    "TechUseHigh_state.rename(columns={'NAME': 'State'}, inplace=True)\n",
    "Census_regions.rename(columns={'State Code': 'StateCode'}, inplace=True)\n",
    "TechUseHigh_state = TechUseHigh_state.merge(Census_regions, how='inner', on='State')\n",
    "print(TechUseHigh_state)\n"
   ]
  },
  {
   "cell_type": "markdown",
   "metadata": {},
   "source": [
    "# 3. Load"
   ]
  },
  {
   "cell_type": "markdown",
   "metadata": {},
   "source": [
    "# a. Save files for later use\n",
    "Save each dataframe as a csv file\n",
    "TechUseHigh_Sector_us.csv, TechUseHigh_Size_us.csv, and TechUseHigh_state.csv"
   ]
  },
  {
   "cell_type": "code",
   "execution_count": null,
   "metadata": {},
   "outputs": [],
   "source": [
    "TechUseHigh_Sector_us.to_csv('Data/TechUseHigh_Sector_us.csv', index=False)\n",
    "TechUseHigh_Size_us.to_csv('Data/TechUseHigh_Size_us.csv', index=False)\n",
    "TechUseHigh_state.to_csv('Data/TechUseHigh_state.csv', index=False)"
   ]
  }
 ],
 "metadata": {
  "interpreter": {
   "hash": "5c6de44c681b342ec51b1de181fee9b517a6326e3c382e784e1b8c6142c576ac"
  },
  "kernelspec": {
   "display_name": "Python 3.9.7 64-bit ('base': conda)",
   "language": "python",
   "name": "python3"
  },
  "language_info": {
   "codemirror_mode": {
    "name": "ipython",
    "version": 3
   },
   "file_extension": ".py",
   "mimetype": "text/x-python",
   "name": "python",
   "nbconvert_exporter": "python",
   "pygments_lexer": "ipython3",
   "version": "3.9.7"
  },
  "orig_nbformat": 4
 },
 "nbformat": 4,
 "nbformat_minor": 2
}
